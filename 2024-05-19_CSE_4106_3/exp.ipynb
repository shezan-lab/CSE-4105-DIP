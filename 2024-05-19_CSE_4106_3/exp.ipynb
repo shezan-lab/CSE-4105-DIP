{
 "cells": [
  {
   "cell_type": "code",
   "execution_count": 1,
   "metadata": {},
   "outputs": [
    {
     "ename": "ModuleNotFoundError",
     "evalue": "No module named 'cv2'",
     "output_type": "error",
     "traceback": [
      "\u001b[1;31m---------------------------------------------------------------------------\u001b[0m",
      "\u001b[1;31mModuleNotFoundError\u001b[0m                       Traceback (most recent call last)",
      "\u001b[1;32m<ipython-input-1-abef22c0eb01>\u001b[0m in \u001b[0;36m<module>\u001b[1;34m()\u001b[0m\n\u001b[0;32m      1\u001b[0m \u001b[1;32mimport\u001b[0m \u001b[0mnumpy\u001b[0m \u001b[1;32mas\u001b[0m \u001b[0mnp\u001b[0m\u001b[1;33m\u001b[0m\u001b[0m\n\u001b[1;32m----> 2\u001b[1;33m \u001b[1;32mimport\u001b[0m \u001b[0mcv2\u001b[0m\u001b[1;33m\u001b[0m\u001b[0m\n\u001b[0m\u001b[0;32m      3\u001b[0m \u001b[1;32mimport\u001b[0m \u001b[0mmatplotlib\u001b[0m\u001b[1;33m.\u001b[0m\u001b[0mpyplot\u001b[0m \u001b[1;32mas\u001b[0m \u001b[0mplt\u001b[0m\u001b[1;33m\u001b[0m\u001b[0m\n\u001b[0;32m      4\u001b[0m \u001b[1;32mimport\u001b[0m \u001b[0mos\u001b[0m\u001b[1;33m\u001b[0m\u001b[0m\n\u001b[0;32m      5\u001b[0m \u001b[1;33m\u001b[0m\u001b[0m\n",
      "\u001b[1;31mModuleNotFoundError\u001b[0m: No module named 'cv2'"
     ]
    }
   ],
   "source": [
    "import numpy as np\n",
    "import cv2\n",
    "import matplotlib.pyplot as plt\n",
    "import os\n",
    "\n",
    "# Load the image using OpenCV\n",
    "image_path = os.path.join(\"assets\", \"pic2.jpg\")\n",
    "img = cv2.imread(image_path, cv2.IMREAD_GRAYSCALE)\n",
    "\n",
    "# Make sure the image dimensions are even to avoid dimension mismatch\n",
    "rows, cols = img.shape\n",
    "rows -= rows % 2\n",
    "cols -= cols % 2\n",
    "img = img[:rows, :cols]\n",
    "\n",
    "# Extract odd and even pixels\n",
    "odd_pixels = img[::2, ::2].flatten()\n",
    "even_pixels = img[1::2, 1::2].flatten()\n",
    "\n",
    "# Resize the arrays to ensure they have the same size\n",
    "min_len = min(len(odd_pixels), len(even_pixels))\n",
    "odd_pixels = odd_pixels[:min_len]\n",
    "even_pixels = even_pixels[:min_len]\n",
    "\n",
    "# Compute the correlation between odd and even pixels\n",
    "correlation = np.corrcoef(odd_pixels, even_pixels)[0, 1]\n",
    "print(\"Correlation between odd and even pixels:\", correlation)\n",
    "\n",
    "# Plot the correlation\n",
    "plt.figure(figsize=(10, 10))\n",
    "plt.scatter(odd_pixels, even_pixels, color='b', marker='.')\n",
    "plt.title('Correlation between Odd and Even Pixels')\n",
    "plt.xlabel('Odd Pixels')\n",
    "plt.ylabel('Even Pixels')\n",
    "plt.grid(True)\n",
    "plt.show()\n"
   ]
  }
 ],
 "metadata": {
  "kernelspec": {
   "display_name": "Python 3",
   "language": "python",
   "name": "python3"
  },
  "language_info": {
   "codemirror_mode": {
    "name": "ipython",
    "version": 3
   },
   "file_extension": ".py",
   "mimetype": "text/x-python",
   "name": "python",
   "nbconvert_exporter": "python",
   "pygments_lexer": "ipython3",
   "version": "3.12.3"
  }
 },
 "nbformat": 4,
 "nbformat_minor": 2
}
