{
  "cells": [
    {
      "cell_type": "markdown",
      "metadata": {
        "colab_type": "text",
        "id": "view-in-github"
      },
      "source": [
        "<a href=\"https://colab.research.google.com/github/MoumitaEsha/coursera-test/blob/master/Copy_of_Lab_1_DSP.ipynb\" target=\"_parent\"><img src=\"https://colab.research.google.com/assets/colab-badge.svg\" alt=\"Open In Colab\"/></a>"
      ]
    },
    {
      "cell_type": "code",
      "execution_count": 2,
      "metadata": {
        "colab": {
          "base_uri": "https://localhost:8080/"
        },
        "id": "6b9Qilu6NK-U",
        "outputId": "b287759a-1dca-4887-f683-d4d3a9750faa"
      },
      "outputs": [
        {
          "name": "stdout",
          "output_type": "stream",
          "text": [
            "Hello\n",
            "Hello\n"
          ]
        }
      ],
      "source": [
        "print(\"Hello\")\n",
        "print('Hello')"
      ]
    },
    {
      "cell_type": "code",
      "execution_count": 3,
      "metadata": {
        "colab": {
          "base_uri": "https://localhost:8080/"
        },
        "id": "qhJ4uxNdNdRI",
        "outputId": "1acfec7f-0f7d-45ba-d147-1100d2d4f4d8"
      },
      "outputs": [
        {
          "name": "stdout",
          "output_type": "stream",
          "text": [
            "cat\n"
          ]
        }
      ],
      "source": [
        "#variables\n",
        "a=10\n",
        "b=2.5\n",
        "c=\"cat\"\n",
        "print(c)"
      ]
    },
    {
      "cell_type": "code",
      "execution_count": 4,
      "metadata": {
        "colab": {
          "base_uri": "https://localhost:8080/"
        },
        "id": "A6lwWqDzN467",
        "outputId": "0de4d326-b6be-4923-d450-da6a94cfe5ac"
      },
      "outputs": [
        {
          "name": "stdout",
          "output_type": "stream",
          "text": [
            "<class 'str'>\n",
            "<class 'int'>\n"
          ]
        }
      ],
      "source": [
        "#input and type conversion\n",
        "a=input(\"Enter input \")\n",
        "print(type(a))\n",
        "\n",
        "a=int(input(\"Enter input \"))\n",
        "print(type(a))\n"
      ]
    },
    {
      "cell_type": "code",
      "execution_count": 5,
      "metadata": {
        "colab": {
          "base_uri": "https://localhost:8080/"
        },
        "id": "Mlb0B97NO77v",
        "outputId": "ddefd52e-a000-4f06-9365-70748ebe8616"
      },
      "outputs": [
        {
          "name": "stdout",
          "output_type": "stream",
          "text": [
            "D\n",
            "Dig\n",
            "igital Signal Processing\n",
            "Digit\n"
          ]
        }
      ],
      "source": [
        "#strings\n",
        "s=\"Digital Signal Processing\"\n",
        "print(s[0])\n",
        "print(s[0:3])\n",
        "print(s[1:])\n",
        "print(s[:5])"
      ]
    },
    {
      "cell_type": "code",
      "execution_count": 6,
      "metadata": {
        "colab": {
          "base_uri": "https://localhost:8080/"
        },
        "id": "0J8-LyvDPby0",
        "outputId": "df500dd8-46ea-4a11-9103-9b578770826c"
      },
      "outputs": [
        {
          "name": "stdout",
          "output_type": "stream",
          "text": [
            "first name is mazharul and last name is islam\n"
          ]
        }
      ],
      "source": [
        "f='mazharul'\n",
        "s='islam'\n",
        "message= 'first name is ' + f + ' and last name is ' + s\n",
        "print(message)"
      ]
    },
    {
      "cell_type": "code",
      "execution_count": 7,
      "metadata": {
        "colab": {
          "base_uri": "https://localhost:8080/"
        },
        "id": "pGikYDdMQYKD",
        "outputId": "3861935a-fef1-48aa-8cb2-b545067ca80a"
      },
      "outputs": [
        {
          "name": "stdout",
          "output_type": "stream",
          "text": [
            "25\n",
            "8\n",
            "8\n",
            "-1\n",
            "True\n",
            "Digital Signal Processings\n"
          ]
        }
      ],
      "source": [
        "s=\"Digital Signal Processing\"\n",
        "print(len(s))\n",
        "\n",
        "print(s.find('S'))\n",
        "print(s.find('Signal'))\n",
        "print(s.find('bd'))\n",
        "\n",
        "print('S' in s)\n",
        "\n",
        "print(s.replace('Processing', 'Processings'))"
      ]
    },
    {
      "cell_type": "code",
      "execution_count": 8,
      "metadata": {
        "colab": {
          "base_uri": "https://localhost:8080/"
        },
        "id": "A2WFwWV1RgWI",
        "outputId": "3c57eeb4-f0c4-4699-8de0-60e180c0d005"
      },
      "outputs": [
        {
          "data": {
            "text/plain": [
              "1000"
            ]
          },
          "execution_count": 8,
          "metadata": {},
          "output_type": "execute_result"
        }
      ],
      "source": [
        "#arithmatic operations\n",
        "8//3\n",
        "10**3"
      ]
    },
    {
      "cell_type": "code",
      "execution_count": 9,
      "metadata": {
        "colab": {
          "base_uri": "https://localhost:8080/"
        },
        "id": "l9kA7m_fR4OR",
        "outputId": "a9f96203-c531-46d0-9e55-d257783b0f31"
      },
      "outputs": [
        {
          "name": "stdout",
          "output_type": "stream",
          "text": [
            "3\n",
            "1.8\n",
            "3\n",
            "2\n"
          ]
        }
      ],
      "source": [
        "#math functions\n",
        "x=2.9\n",
        "print(round(x))\n",
        "print(abs(-1.8))\n",
        "import math\n",
        "print(math.ceil(x))\n",
        "print(math.floor(x))"
      ]
    },
    {
      "cell_type": "code",
      "execution_count": 10,
      "metadata": {
        "colab": {
          "base_uri": "https://localhost:8080/"
        },
        "id": "wo2Ng0f6SX-k",
        "outputId": "399cf83e-019c-4817-cf0d-cba36986bdb7"
      },
      "outputs": [
        {
          "name": "stdout",
          "output_type": "stream",
          "text": [
            "Negative\n"
          ]
        }
      ],
      "source": [
        "#conditions\n",
        "# < <= > >= == !=\n",
        "# and or not\n",
        "number=-5\n",
        "if number>0:\n",
        "  print(\"positive\")\n",
        "elif number==0:\n",
        "  print(\"Zero\")\n",
        "else :\n",
        "  print(\"Negative\")"
      ]
    },
    {
      "cell_type": "code",
      "execution_count": 11,
      "metadata": {
        "colab": {
          "base_uri": "https://localhost:8080/"
        },
        "id": "_OKFPphyS-PA",
        "outputId": "416853b2-fc40-447d-cebc-d1a106a8e265"
      },
      "outputs": [
        {
          "name": "stdout",
          "output_type": "stream",
          "text": [
            "1\n",
            "2\n",
            "3\n",
            "4\n"
          ]
        }
      ],
      "source": [
        "#while loops\n",
        "#break\n",
        "i=1\n",
        "while i<5:\n",
        "  print(i)\n",
        "  i+=1\n",
        "\n"
      ]
    },
    {
      "cell_type": "code",
      "execution_count": 12,
      "metadata": {
        "colab": {
          "base_uri": "https://localhost:8080/"
        },
        "id": "5t1rgUjMTTYg",
        "outputId": "914c52ed-9f9d-45da-eb41-e4c6cba80281"
      },
      "outputs": [
        {
          "name": "stdout",
          "output_type": "stream",
          "text": [
            "D\n",
            "i\n",
            "g\n",
            "i\n",
            "t\n",
            "a\n",
            "l\n",
            "1 2 3 0\n",
            "1\n",
            "2\n",
            "3\n",
            "4\n",
            "5\n",
            "6\n",
            "7\n",
            "8\n",
            "9\n",
            "1\n",
            "2\n",
            "3\n",
            "4\n",
            "5\n",
            "6\n",
            "7\n",
            "8\n",
            "9\n",
            "1\n",
            "3\n",
            "5\n",
            "7\n",
            "9\n"
          ]
        }
      ],
      "source": [
        "#for loops\n",
        "for i in 'Digital':\n",
        "  print(i)\n",
        "\n",
        "for i in [1,2,3]:\n",
        "  print(i, end=\" \")\n",
        "\n",
        "for i in range(10):\n",
        "  print(i)\n",
        "\n",
        "for i in range(1,10):\n",
        "  print(i)\n",
        "\n",
        "for i in range(1,10,2):\n",
        "  print(i)\n",
        "\n"
      ]
    },
    {
      "cell_type": "code",
      "execution_count": 13,
      "metadata": {
        "colab": {
          "base_uri": "https://localhost:8080/"
        },
        "id": "lgX4OP-pVdO0",
        "outputId": "c67ac5c8-1deb-4dda-8318-f87864697610"
      },
      "outputs": [
        {
          "name": "stdout",
          "output_type": "stream",
          "text": [
            "0 , 0\n",
            "0 , 1\n",
            "0 , 2\n",
            "0 , 3\n",
            "1 , 0\n",
            "1 , 1\n",
            "1 , 2\n",
            "1 , 3\n",
            "2 , 0\n",
            "2 , 1\n",
            "2 , 2\n",
            "2 , 3\n"
          ]
        }
      ],
      "source": [
        "#nested loops\n",
        "for x in range(3):\n",
        "  for y in range(4):\n",
        "    print(f'{x} , {y}')\n",
        "\n",
        "\n",
        "\n"
      ]
    },
    {
      "cell_type": "code",
      "execution_count": 14,
      "metadata": {
        "colab": {
          "base_uri": "https://localhost:8080/"
        },
        "id": "uB2-C5G-WRNo",
        "outputId": "4c35ff4b-7d5b-47e3-db68-860bbb26615b"
      },
      "outputs": [
        {
          "name": "stdout",
          "output_type": "stream",
          "text": [
            "['cat', 'dog', 'cow']\n",
            "cat\n",
            "['dog']\n"
          ]
        }
      ],
      "source": [
        "#lists\n",
        "a=['cat','dog','cow']\n",
        "print(a)\n",
        "print(a[0])\n",
        "print(a[1:2])\n",
        "\n",
        "\n"
      ]
    },
    {
      "cell_type": "code",
      "execution_count": 15,
      "metadata": {
        "colab": {
          "base_uri": "https://localhost:8080/"
        },
        "id": "5dIAdRBWXKPo",
        "outputId": "07fc0b0f-e02f-4669-88e3-19cb09231cd1"
      },
      "outputs": [
        {
          "name": "stdout",
          "output_type": "stream",
          "text": [
            "2\n",
            "1\n",
            "2\n",
            "3\n",
            "4\n",
            "5\n",
            "6\n",
            "7\n",
            "8\n",
            "9\n"
          ]
        }
      ],
      "source": [
        "#2D lists\n",
        "\n",
        "matrix=[[1,2,3],\n",
        "        [4,5,6],\n",
        "        [7,8,9]]\n",
        "\n",
        "print(matrix[0][1])\n",
        "\n",
        "for i in matrix:\n",
        "  for j in i:\n",
        "    print(j)"
      ]
    },
    {
      "cell_type": "code",
      "execution_count": 16,
      "metadata": {
        "colab": {
          "base_uri": "https://localhost:8080/"
        },
        "id": "Cw9w0xUZXq5O",
        "outputId": "a7bb2fce-35b5-4fb1-afef-daf6dba0abed"
      },
      "outputs": [
        {
          "name": "stdout",
          "output_type": "stream",
          "text": [
            "[]\n"
          ]
        }
      ],
      "source": [
        "#LIST METHODS\n",
        "a=[1,2,3,4,5]\n",
        "a.append(20)\n",
        "a.insert(2,30)\n",
        "a.remove(30)\n",
        "a.pop()\n",
        "a.clear()\n",
        "print(a)\n",
        "\n"
      ]
    },
    {
      "cell_type": "code",
      "execution_count": 17,
      "metadata": {
        "colab": {
          "base_uri": "https://localhost:8080/"
        },
        "id": "CfXVcJsLbgMb",
        "outputId": "71a5986a-edcd-4034-945d-2671f8a9abcd"
      },
      "outputs": [
        {
          "name": "stdout",
          "output_type": "stream",
          "text": [
            "3\n",
            "False\n",
            "[5, 4, 3, 2, 1]\n",
            "[1, 2, 3, 4, 5]\n"
          ]
        }
      ],
      "source": [
        "a=[1,2,3,4,5]\n",
        "print(a.index(4))\n",
        "print(8 in a)\n",
        "a.count(3)\n",
        "a.reverse()\n",
        "print(a)\n",
        "a.sort()\n",
        "print(a)\n"
      ]
    },
    {
      "cell_type": "code",
      "execution_count": 18,
      "metadata": {
        "colab": {
          "base_uri": "https://localhost:8080/",
          "height": 176
        },
        "id": "8H-kVSCsbVzV",
        "outputId": "87e11504-fab2-4d8c-b104-b29cf433f386"
      },
      "outputs": [],
      "source": [
        "# tuples\n",
        "a=(1,2,3)\n",
        "# a.append(4)"
      ]
    },
    {
      "cell_type": "code",
      "execution_count": 19,
      "metadata": {
        "colab": {
          "base_uri": "https://localhost:8080/"
        },
        "id": "CaruAhd6bAp5",
        "outputId": "9b7fafa9-bb3e-47f2-960b-8a915176948f"
      },
      "outputs": [
        {
          "name": "stdout",
          "output_type": "stream",
          "text": [
            "9\n"
          ]
        }
      ],
      "source": [
        "#functions\n",
        "def sqr(a):\n",
        "  return a**2\n",
        "\n",
        "print(sqr(3))\n",
        "\n"
      ]
    },
    {
      "cell_type": "code",
      "execution_count": 20,
      "metadata": {
        "colab": {
          "base_uri": "https://localhost:8080/"
        },
        "id": "U9vz1eMKimWn",
        "outputId": "75c7066c-ddcf-4315-ab4b-6f198dcd445d"
      },
      "outputs": [
        {
          "name": "stdout",
          "output_type": "stream",
          "text": [
            "[1 2 3]\n",
            "[[1 2 3]\n",
            " [4 5 6]]\n",
            "2\n",
            "(2, 3)\n",
            "int32\n",
            "int16\n",
            "6\n",
            "[4 5 6]\n",
            "[3 6]\n"
          ]
        }
      ],
      "source": [
        "#numpy\n",
        "import numpy as np\n",
        "a=np.array([1,2,3])\n",
        "print(a)\n",
        "b=np.array([[1,2,3],[4,5,6]])\n",
        "print(b)\n",
        "print(b.ndim)\n",
        "print(b.shape)\n",
        "print(b.dtype)\n",
        "b=np.array([[1,2,3],[4,5,6]],dtype='int16')\n",
        "print(b.dtype)\n",
        "\n",
        "print(b[1,2])\n",
        "print(b[1,:])\n",
        "print(b[:,2])\n",
        "#print(b[0,1:6:2])   #0,1  0,3   0,5\n",
        "\n"
      ]
    },
    {
      "cell_type": "code",
      "execution_count": 21,
      "metadata": {
        "colab": {
          "base_uri": "https://localhost:8080/"
        },
        "id": "Dty4HsyWk2I7",
        "outputId": "a9e4395a-f1f3-4bd8-ebde-e293a4060b70"
      },
      "outputs": [
        {
          "name": "stdout",
          "output_type": "stream",
          "text": [
            "[0. 0. 0. 0. 0.]\n",
            "[[0. 0. 0.]\n",
            " [0. 0. 0.]]\n",
            "[[1. 1. 1.]\n",
            " [1. 1. 1.]]\n",
            "[1. 1. 1. 1. 1.]\n",
            "[[99 99]\n",
            " [99 99]]\n",
            "[[0.38983004 0.32138447]\n",
            " [0.58487303 0.41939941]\n",
            " [0.75896247 0.70062289]\n",
            " [0.86201803 0.22149659]]\n",
            "[[1. 0. 0. 0. 0.]\n",
            " [0. 1. 0. 0. 0.]\n",
            " [0. 0. 1. 0. 0.]\n",
            " [0. 0. 0. 1. 0.]\n",
            " [0. 0. 0. 0. 1.]]\n"
          ]
        }
      ],
      "source": [
        "print(np.zeros(5))\n",
        "print(np.zeros((2,3)))\n",
        "print(np.ones((2,3)))\n",
        "print(np.ones(5))\n",
        "print(np.full((2,2),99))\n",
        "print(np.random.rand(4,2))\n",
        "print(np.identity(5))"
      ]
    },
    {
      "cell_type": "code",
      "execution_count": 22,
      "metadata": {
        "colab": {
          "base_uri": "https://localhost:8080/",
          "height": 447
        },
        "id": "o2oV-myCl1L0",
        "outputId": "6755afca-c60c-46e3-a9ac-8724428275a7"
      },
      "outputs": [
        {
          "name": "stdout",
          "output_type": "stream",
          "text": [
            "[ 2  4  6  8 10 12 14 16 18 20]\n"
          ]
        },
        {
          "data": {
            "image/png": "[encoded data removed]",
            "text/plain": [
              "<Figure size 640x480 with 1 Axes>"
            ]
          },
          "metadata": {},
          "output_type": "display_data"
        }
      ],
      "source": [
        "#Matplotlib\n",
        "import numpy as np\n",
        "import matplotlib.pyplot as plt\n",
        "\n",
        "x = np.arange(1,11)\n",
        "y1 = 2*x\n",
        "y2 = 3*x\n",
        "print(y1)\n",
        "plt.plot(x,y1)\n",
        "plt.show()"
      ]
    },
    {
      "cell_type": "code",
      "execution_count": 23,
      "metadata": {
        "id": "BE3QXrh5JJp5"
      },
      "outputs": [],
      "source": [
        "#2sin(2*pi*f*t)\n",
        "#np.sin()"
      ]
    },
    {
      "cell_type": "code",
      "execution_count": 24,
      "metadata": {
        "colab": {
          "base_uri": "https://localhost:8080/",
          "height": 472
        },
        "id": "wgMk9SAJmrWg",
        "outputId": "0adf0bad-baf8-4331-e04a-31c7322ee614"
      },
      "outputs": [
        {
          "data": {
            "image/png": "[encoded data removed]",
            "text/plain": [
              "<Figure size 640x480 with 1 Axes>"
            ]
          },
          "metadata": {},
          "output_type": "display_data"
        }
      ],
      "source": [
        "#Line Plot\n",
        "\n",
        "plt.plot(x, y1, color='orange', linewidth=3, linestyle=\":\")\n",
        "plt.plot(x, y2, color='red', linewidth=2, linestyle='--')\n",
        "plt.title(\"Line Plot\")\n",
        "plt.xlabel(\"X-axis\")\n",
        "plt.ylabel(\"Y-axis\")\n",
        "plt.grid(True)\n",
        "plt.show()"
      ]
    },
    {
      "cell_type": "code",
      "execution_count": 25,
      "metadata": {
        "id": "EBqGKuvLEKLk"
      },
      "outputs": [
        {
          "data": {
            "image/png": "[encoded data removed]",
            "text/plain": [
              "<Figure size 640x480 with 1 Axes>"
            ]
          },
          "metadata": {},
          "output_type": "display_data"
        }
      ],
      "source": [
        "x = np.arange(-1, 100, 0.0001)\n",
        "y = np.sin(x)\n",
        "plt.plot(x,y)\n",
        "plt.show()"
      ]
    },
    {
      "cell_type": "code",
      "execution_count": null,
      "metadata": {},
      "outputs": [],
      "source": []
    }
  ],
  "metadata": {
    "colab": {
      "include_colab_link": true,
      "provenance": []
    },
    "kernelspec": {
      "display_name": "Python 3",
      "name": "python3"
    },
    "language_info": {
      "codemirror_mode": {
        "name": "ipython",
        "version": 3
      },
      "file_extension": ".py",
      "mimetype": "text/x-python",
      "name": "python",
      "nbconvert_exporter": "python",
      "pygments_lexer": "ipython3",
      "version": "3.12.3"
    }
  },
  "nbformat": 4,
  "nbformat_minor": 0
}
